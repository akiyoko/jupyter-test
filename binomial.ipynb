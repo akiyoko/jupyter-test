{
 "cells": [
  {
   "cell_type": "markdown",
   "metadata": {
    "collapsed": true
   },
   "source": [
    "test\n",
    "$$c = \\sqrt{a^2 + b^2}$$"
   ]
  },
  {
   "cell_type": "code",
   "execution_count": 1,
   "metadata": {},
   "outputs": [],
   "source": [
    "import matplotlib.pyplot as plt\n",
    "import numpy as np\n",
    "\n",
    "% matplotlib inline"
   ]
  },
  {
   "cell_type": "code",
   "execution_count": 2,
   "metadata": {},
   "outputs": [
    {
     "data": {
      "text/plain": [
       "array([3, 6, 3, 3, 5, 1, 2, 6, 4, 3, 3, 3, 3, 3, 1, 3, 3, 3, 6, 4, 3, 3, 6,\n       5, 3, 5, 3, 3, 5, 3, 5, 5, 3, 3, 4, 5, 3, 3, 2, 3, 3, 2, 6, 5, 3, 3,\n       3, 3, 3, 3, 2, 3, 3, 3, 3, 4, 3, 3, 3, 4, 5, 3, 2, 3, 3, 2, 3, 3, 3,\n       4, 2, 3, 4, 3, 3, 3, 6, 2, 1, 5, 5, 3, 6, 3, 5, 3, 3, 3, 3, 3, 3, 3,\n       3, 4, 3, 3, 2, 4, 6, 5])"
      ]
     },
     "execution_count": 2,
     "metadata": {},
     "output_type": "execute_result"
    }
   ],
   "source": [
    "np.random.choice([1, 2, 3, 4, 5, 6], 100, p=[.1, .1, .5, .1, .1, .1])"
   ]
  },
  {
   "cell_type": "code",
   "execution_count": 3,
   "metadata": {},
   "outputs": [
    {
     "data": {
      "text/plain": [
       "(array([0, 1, 0, 1]), 2)"
      ]
     },
     "execution_count": 3,
     "metadata": {},
     "output_type": "execute_result"
    }
   ],
   "source": [
    "n = np.random.randint(low=0, high=2, size=4)\n",
    "s = n.sum()\n",
    "n, s"
   ]
  },
  {
   "cell_type": "code",
   "execution_count": 4,
   "metadata": {},
   "outputs": [
    {
     "data": {
      "text/plain": [
       "{0: 8, 1: 31, 2: 36, 3: 20, 4: 5}"
      ]
     },
     "execution_count": 4,
     "metadata": {},
     "output_type": "execute_result"
    }
   ],
   "source": [
    "d = {0: 0, 1: 0, 2: 0, 3: 0, 4: 0}\n",
    "for i in xrange(100):\n",
    "    s = np.random.randint(low=0, high=2, size=4).sum()\n",
    "    d[s] += 1\n",
    "d"
   ]
  },
  {
   "cell_type": "code",
   "execution_count": 5,
   "metadata": {},
   "outputs": [
    {
     "data": {
      "text/plain": [
       "6"
      ]
     },
     "execution_count": 5,
     "metadata": {},
     "output_type": "execute_result"
    }
   ],
   "source": [
    "from math import factorial\n",
    "\n",
    "\n",
    "# cf. http://stackoverflow.com/a/4941846\n",
    "def nCr(n, r):\n",
    "    return factorial(n) // factorial(r) // factorial(n-r)\n",
    "\n",
    "nCr(4, 2)"
   ]
  },
  {
   "cell_type": "code",
   "execution_count": 6,
   "metadata": {},
   "outputs": [
    {
     "data": {
      "image/png": "[encoded data removed]",
      "text/plain": [
       "<matplotlib.figure.Figure at 0x1047e2150>"
      ]
     },
     "metadata": {},
     "output_type": "display_data"
    },
    {
     "name": "stdout",
     "output_type": "stream",
     "text": [
      "binomial distribution=[ 0.0625  0.25    0.375   0.25    0.0625]\n"
     ]
    },
    {
     "data": {
      "image/png": "[encoded data removed]",
      "text/plain": [
       "<matplotlib.figure.Figure at 0x1108e0950>"
      ]
     },
     "metadata": {},
     "output_type": "display_data"
    },
    {
     "name": "stdout",
     "output_type": "stream",
     "text": [
      "binomial distribution=[  7.88860905e-31   7.88860905e-29   3.90486148e-27   1.27558808e-25\n   3.09330110e-24   5.93913812e-23   9.40363535e-22   1.26277389e-20\n   1.46797465e-19   1.50059631e-18   1.36554264e-17   1.11726216e-16\n   8.28636101e-16   5.60922899e-15   3.48573516e-14   1.99848816e-13\n   1.06169683e-12   5.24603142e-12   2.41900338e-11   1.04399093e-10\n   4.22816327e-10   1.61072886e-09   5.78398092e-09   1.96152396e-08\n   6.29322272e-08   1.91313971e-07   5.51867223e-07   1.51252498e-06\n   3.94336870e-06   9.79043264e-06   2.31706906e-05   5.23209142e-05\n   1.12816971e-04   2.32471335e-04   4.58105277e-04   8.63855666e-04\n   1.55973940e-03   2.69792760e-03   4.47287998e-03   7.11073227e-03\n   1.08438667e-02   1.58690732e-02   2.22922695e-02   3.00686426e-02\n   3.89525598e-02   4.84742966e-02   5.79583981e-02   6.65905000e-02\n   7.35270104e-02   7.80286641e-02   7.95892374e-02   7.80286641e-02\n   7.35270104e-02   6.65905000e-02   5.79583981e-02   4.84742966e-02\n   3.89525598e-02   3.00686426e-02   2.22922695e-02   1.58690732e-02\n   1.08438667e-02   7.11073227e-03   4.47287998e-03   2.69792760e-03\n   1.55973940e-03   8.63855666e-04   4.58105277e-04   2.32471335e-04\n   1.12816971e-04   5.23209142e-05   2.31706906e-05   9.79043264e-06\n   3.94336870e-06   1.51252498e-06   5.51867223e-07   1.91313971e-07\n   6.29322272e-08   1.96152396e-08   5.78398092e-09   1.61072886e-09\n   4.22816327e-10   1.04399093e-10   2.41900338e-11   5.24603142e-12\n   1.06169683e-12   1.99848816e-13   3.48573516e-14   5.60922899e-15\n   8.28636101e-16   1.11726216e-16   1.36554264e-17   1.50059631e-18\n   1.46797465e-19   1.26277389e-20   9.40363535e-22   5.93913812e-23\n   3.09330110e-24   1.27558808e-25   3.90486148e-27   7.88860905e-29\n   7.88860905e-31]\n"
     ]
    }
   ],
   "source": [
    "from math import factorial\n",
    "\n",
    "\n",
    "def nCr(n, r):\n",
    "    \"\"\"\n",
    "    Calculate combination\n",
    "    \n",
    "    cf. http://stackoverflow.com/a/4941846\n",
    "    \"\"\"\n",
    "    return factorial(n) // factorial(r) // factorial(n - r)\n",
    "\n",
    "\n",
    "def b(n, p):\n",
    "    \"\"\"Calculate binomial distribution\"\"\"\n",
    "    #dist = [0] * (n + 1)  # e.g. n is 4, then [0, 0, 0, 0, 0]\n",
    "    dist = np.zeros(n + 1)\n",
    "    for k in xrange(n + 1):\n",
    "        c = nCr(n, k)\n",
    "        dist[k] = c * (p ** k) * ((1 - p) ** (n - k))\n",
    "    return dist\n",
    "\n",
    "\n",
    "def plot_bar(dist):\n",
    "    \"\"\"Plot bar chart\n",
    "\n",
    "    Args:\n",
    "        dist (list):\n",
    "    \"\"\"\n",
    "    #x_ticks = np.arange(len(dist))\n",
    "    #plt.bar(x_ticks, dist, width=1, label='N=%s' % (len(dist) - 1))\n",
    "    #plt.xticks(x_ticks + 0.5, x_ticks)\n",
    "    plt.bar(xrange(len(dist)), dist, width=1, label='N=%s' % (len(dist) - 1))\n",
    "    plt.legend()\n",
    "    plt.title('COIN')\n",
    "    plt.xlabel('k')\n",
    "    plt.ylabel('p')\n",
    "    plt.show()\n",
    "\n",
    "# N = 4, p = 0.5\n",
    "b_dist = b(4, 0.5)\n",
    "plot_bar(b_dist)\n",
    "print('binomial distribution=%s' % b_dist)\n",
    "\n",
    "# N = 100, p = 0.5\n",
    "b_dist = b(100, 0.5)\n",
    "plot_bar(b_dist)\n",
    "print('binomial distribution=%s' % b_dist)"
   ]
  },
  {
   "cell_type": "code",
   "execution_count": null,
   "metadata": {},
   "outputs": [],
   "source": [
    ""
   ]
  }
 ],
 "metadata": {
  "kernelspec": {
   "display_name": "Python 2",
   "language": "python",
   "name": "python2"
  },
  "language_info": {
   "codemirror_mode": {
    "name": "ipython",
    "version": 2.0
   },
   "file_extension": ".py",
   "mimetype": "text/x-python",
   "name": "python",
   "nbconvert_exporter": "python",
   "pygments_lexer": "ipython2",
   "version": "2.7.6"
  }
 },
 "nbformat": 4,
 "nbformat_minor": 0
}